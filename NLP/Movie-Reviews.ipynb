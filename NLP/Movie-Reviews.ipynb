{
 "cells": [
  {
   "cell_type": "code",
   "execution_count": 1,
   "metadata": {},
   "outputs": [],
   "source": [
    "# Code of movie recommendations system and it`s reviews and all the details of the movie`s "
   ]
  },
  {
   "cell_type": "code",
   "execution_count": 2,
   "metadata": {},
   "outputs": [
    {
     "name": "stdout",
     "output_type": "stream",
     "text": [
      "['capsule', ':', 'in', '2176', 'on', 'the', 'planet', ...]\n"
     ]
    }
   ],
   "source": [
    "from nltk.corpus import movie_reviews\n",
    "movie_reviews.categories()\n",
    "movie_reviews.fileids()\n",
    "len(movie_reviews.fileids())\n",
    "print(movie_reviews.words(movie_reviews.fileids()[5]))"
   ]
  },
  {
   "cell_type": "code",
   "execution_count": 3,
   "metadata": {},
   "outputs": [
    {
     "data": {
      "text/plain": [
       "[(['plot', ':', 'two', 'teen', 'couples', 'go', 'to', ...], 'neg'),\n",
       " (['the', 'happy', 'bastard', \"'\", 's', 'quick', 'movie', ...], 'neg'),\n",
       " (['it', 'is', 'movies', 'like', 'these', 'that', 'make', ...], 'neg'),\n",
       " (['\"', 'quest', 'for', 'camelot', '\"', 'is', 'warner', ...], 'neg'),\n",
       " (['synopsis', ':', 'a', 'mentally', 'unstable', 'man', ...], 'neg')]"
      ]
     },
     "execution_count": 3,
     "metadata": {},
     "output_type": "execute_result"
    }
   ],
   "source": [
    "documents = []\n",
    "for category in movie_reviews.categories():\n",
    "    for fileid in movie_reviews.fileids(category):\n",
    "        documents.append((movie_reviews.words(fileid), category))\n",
    "documents[0:5]"
   ]
  },
  {
   "cell_type": "code",
   "execution_count": 4,
   "metadata": {},
   "outputs": [
    {
     "data": {
      "text/plain": [
       "[(['i', 'still', 'can', \"'\", 't', 'figure', 'out', 'why', ...], 'neg'),\n",
       " (['casting', '\"', 'doogie', 'howser', '\"', 'star', ...], 'pos'),\n",
       " (['every', 'once', 'in', 'a', 'while', ',', 'when', ...], 'pos'),\n",
       " (['i', \"'\", 've', 'noticed', 'something', 'lately', ...], 'pos'),\n",
       " (['\"', 'american', 'pie', '\"', 'alums', 'jason', ...], 'neg')]"
      ]
     },
     "execution_count": 4,
     "metadata": {},
     "output_type": "execute_result"
    }
   ],
   "source": [
    "import random \n",
    "random.shuffle(documents)\n",
    "documents[0:5]"
   ]
  },
  {
   "cell_type": "code",
   "execution_count": 5,
   "metadata": {},
   "outputs": [],
   "source": [
    "from nltk.corpus import wordnet\n",
    "def get_simple_pos(tag): \n",
    "    if tag.starswith('J'): \n",
    "        return wordnet.ADJ \n",
    "    elif tag.startswith('V'): \n",
    "        return wordnet.VERB\n",
    "    elif tag.startswith('N'): \n",
    "        return wordnet.NOUN\n",
    "    elif tag.startswith('R'): \n",
    "        return wordnet.ADV \n",
    "    else: \n",
    "        return wordnet.NOUN"
   ]
  },
  {
   "cell_type": "code",
   "execution_count": 6,
   "metadata": {},
   "outputs": [
    {
     "data": {
      "text/plain": [
       "[('better', 'RBR')]"
      ]
     },
     "execution_count": 6,
     "metadata": {},
     "output_type": "execute_result"
    }
   ],
   "source": [
    "from nltk import pos_tag \n",
    "w = \"better\" \n",
    "pos_tag([w])"
   ]
  },
  {
   "cell_type": "code",
   "execution_count": 7,
   "metadata": {},
   "outputs": [
    {
     "name": "stdout",
     "output_type": "stream",
     "text": [
      "[(['sample', 'document'], 'category1'), (['another', 'example', 'text'], 'category2')]\n",
      "['sample', 'document', 'another', 'example', 'text']\n"
     ]
    }
   ],
   "source": [
    "from nltk.stem import WordNetLemmatizer\n",
    "from nltk.corpus import stopwords\n",
    "from nltk import pos_tag\n",
    "import string\n",
    "\n",
    "# Set stopwords and punctuation\n",
    "stops = set(stopwords.words('english'))\n",
    "punctuations = list(string.punctuation)  # Corrected attribute\n",
    "stops.update(punctuations)\n",
    "\n",
    "lemmatizer = WordNetLemmatizer()\n",
    "\n",
    "# Function to map POS tags to simpler tags for lemmatizer\n",
    "def get_simple_pos(tag):\n",
    "    if tag.startswith('J'):\n",
    "        return 'a'  # Adjective\n",
    "    elif tag.startswith('V'):\n",
    "        return 'v'  # Verb\n",
    "    elif tag.startswith('N'):\n",
    "        return 'n'  # Noun\n",
    "    elif tag.startswith('R'):\n",
    "        return 'r'  # Adverb\n",
    "    else:\n",
    "        return 'n'  # Default to noun\n",
    "\n",
    "# Function to clean review text\n",
    "def clean_review(words):\n",
    "    output_words = []\n",
    "    for w in words:\n",
    "        if w.lower() not in stops:  # Check if word is not in stopwords or punctuation\n",
    "            pos = pos_tag([w])  # Correct usage of pos_tag\n",
    "            clean_word = lemmatizer.lemmatize(w, pos=get_simple_pos(pos[0][1]))\n",
    "            output_words.append(clean_word.lower())\n",
    "    return output_words\n",
    "\n",
    "# Example document structure\n",
    "# Make sure `documents` is tokenized properly\n",
    "documents = [\n",
    "    ([\"This\", \"is\", \"a\", \"sample\", \"document\"], \"category1\"),\n",
    "    ([\"Another\", \"example\", \"text\"], \"category2\"),\n",
    "]\n",
    "\n",
    "# Clean reviews\n",
    "documents = [(clean_review(document), category) for document, category in documents]\n",
    "\n",
    "print(documents)\n",
    "\n",
    "training_documents = documents[0:1500]\n",
    "testing_documents = documents[1500:]\n",
    "\n",
    "a = [1, 2]\n",
    "b = [3, 4]\n",
    "a += b \n",
    "a\n",
    "all_words = []\n",
    "for doc in training_documents: \n",
    "    all_words += doc[0]\n",
    "\n",
    "print(all_words)"
   ]
  },
  {
   "cell_type": "code",
   "execution_count": 8,
   "metadata": {},
   "outputs": [
    {
     "data": {
      "text/plain": [
       "(['sample', 'document'], 'category1')"
      ]
     },
     "execution_count": 8,
     "metadata": {},
     "output_type": "execute_result"
    }
   ],
   "source": [
    "import nltk \n",
    "freq = nltk.FreqDist(all_words)\n",
    "common = freq.most_common(3000)\n",
    "features = [i[0] for i in common]\n",
    "features\n",
    "documents[0]"
   ]
  },
  {
   "cell_type": "code",
   "execution_count": 9,
   "metadata": {},
   "outputs": [],
   "source": [
    "def get_feature_dict(words): \n",
    "    current_features = {}\n",
    "    words_set = set(words)\n",
    "    for w in features:\n",
    "        current_features[w] = w in words_set \n",
    "    return current_features \n"
   ]
  },
  {
   "cell_type": "code",
   "execution_count": 10,
   "metadata": {},
   "outputs": [
    {
     "data": {
      "text/plain": [
       "['sample', 'document']"
      ]
     },
     "execution_count": 10,
     "metadata": {},
     "output_type": "execute_result"
    }
   ],
   "source": [
    "output = get_feature_dict(training_documents[0][0])\n",
    "output\n",
    "training_documents[0][0]"
   ]
  },
  {
   "cell_type": "code",
   "execution_count": 11,
   "metadata": {},
   "outputs": [
    {
     "data": {
      "text/plain": [
       "({'sample': True,\n",
       "  'document': True,\n",
       "  'another': False,\n",
       "  'example': False,\n",
       "  'text': False},\n",
       " 'category1')"
      ]
     },
     "execution_count": 11,
     "metadata": {},
     "output_type": "execute_result"
    }
   ],
   "source": [
    "training_data = [(get_feature_dict(doc), category) for doc, category in training_documents]\n",
    "test_data = [(get_feature_dict(doc), category) for doc, category in training_documents]\n",
    "training_data[0]"
   ]
  },
  {
   "cell_type": "code",
   "execution_count": 12,
   "metadata": {},
   "outputs": [
    {
     "name": "stdout",
     "output_type": "stream",
     "text": [
      "<nltk.classify.naivebayes.NaiveBayesClassifier object at 0x00000169DB3329D0>\n",
      "Most Informative Features\n"
     ]
    }
   ],
   "source": [
    "from nltk import NaiveBayesClassifier \n",
    "classifier = NaiveBayesClassifier.train(training_data)\n",
    "print(classifier)\n",
    "nltk.classify.accuracy(classifier, test_data)\n",
    "classifier.show_most_informative_features(15)\n",
    "\n"
   ]
  },
  {
   "cell_type": "code",
   "execution_count": 13,
   "metadata": {},
   "outputs": [
    {
     "data": {
      "text/plain": [
       "1.0"
      ]
     },
     "execution_count": 13,
     "metadata": {},
     "output_type": "execute_result"
    }
   ],
   "source": [
    "from sklearn.svm import SVC \n",
    "from nltk.classify.scikitlearn import SklearnClassifier  \n",
    "\n",
    "svc = SVC()\n",
    "classifier_sklearn = SklearnClassifier(svc)\n",
    "classifier_sklearn.train(training_data)\n",
    "\n",
    "nltk.classify.accuracy(classifier_sklearn, training_data)\n",
    "nltk.classify.accuracy(classifier_sklearn, test_data)"
   ]
  },
  {
   "cell_type": "code",
   "execution_count": 14,
   "metadata": {},
   "outputs": [
    {
     "data": {
      "text/plain": [
       "<function nltk.classify.util.accuracy(classifier, gold)>"
      ]
     },
     "execution_count": 14,
     "metadata": {},
     "output_type": "execute_result"
    }
   ],
   "source": [
    "from sklearn.ensemble import RandomForestClassifier \n",
    "rfc = RandomForestClassifier()\n",
    "classifier_sklearn = SklearnClassifier(rfc)\n",
    "classifier_sklearn.train(training_data)\n",
    "nltk.classify.accuracy(classifier_sklearn, test_data)\n",
    "nltk.classify.accuracy "
   ]
  },
  {
   "cell_type": "code",
   "execution_count": 15,
   "metadata": {},
   "outputs": [
    {
     "name": "stdout",
     "output_type": "stream",
     "text": [
      "Dense Matrix:\n",
      " [[1 1 1]\n",
      " [0 1 1]]\n",
      "Feature Names: ['blue' 'is' 'the']\n"
     ]
    }
   ],
   "source": [
    "from sklearn.feature_extraction.text import CountVectorizer \n",
    "# Define the training set\n",
    "train_set = [\"The sky is blue\", \"The sun is bright\"]\n",
    "# Initialize CountVectorizer with a maximum of 3 features\n",
    "count_vec = CountVectorizer(max_features=3)\n",
    "# Fit and transform the training set\n",
    "a = count_vec.fit_transform(train_set)\n",
    "# Convert the sparse matrix to a dense representation\n",
    "dense_matrix = a.todense()\n",
    "# Get feature names\n",
    "feature_names = count_vec.get_feature_names_out()\n",
    "# Output results\n",
    "print(\"Dense Matrix:\\n\", dense_matrix)\n",
    "print(\"Feature Names:\", feature_names)\n"
   ]
  },
  {
   "cell_type": "code",
   "execution_count": 16,
   "metadata": {},
   "outputs": [
    {
     "data": {
      "text/plain": [
       "'sample document'"
      ]
     },
     "execution_count": 16,
     "metadata": {},
     "output_type": "execute_result"
    }
   ],
   "source": [
    "documents[0]\n",
    "categories = [category for document, category in documents]\n",
    "text_documents = [\" \".join(document) for document, category in documents]\n",
    "text_documents[0]"
   ]
  },
  {
   "cell_type": "code",
   "execution_count": 17,
   "metadata": {},
   "outputs": [
    {
     "data": {
      "text/plain": [
       "array(['document', 'sample'], dtype=object)"
      ]
     },
     "execution_count": 17,
     "metadata": {},
     "output_type": "execute_result"
    }
   ],
   "source": [
    "from sklearn.model_selection import train_test_split\n",
    "x_train, x_test, y_train, y_test = train_test_split(text_documents, categories)\n",
    "count_vec = CountVectorizer(max_features = 3)\n",
    "a = count_vec.fit_transform(x_train)\n",
    "a.todense()\n",
    "count_vec.get_feature_names_out()"
   ]
  },
  {
   "cell_type": "code",
   "execution_count": 18,
   "metadata": {},
   "outputs": [
    {
     "data": {
      "text/plain": [
       "<1x2 sparse matrix of type '<class 'numpy.int64'>'\n",
       "\twith 0 stored elements in Compressed Sparse Row format>"
      ]
     },
     "execution_count": 18,
     "metadata": {},
     "output_type": "execute_result"
    }
   ],
   "source": [
    "x_test_features = count_vec.transform(x_test)\n",
    "x_test_features "
   ]
  }
 ],
 "metadata": {
  "kernelspec": {
   "display_name": "Python 3",
   "language": "python",
   "name": "python3"
  },
  "language_info": {
   "codemirror_mode": {
    "name": "ipython",
    "version": 3
   },
   "file_extension": ".py",
   "mimetype": "text/x-python",
   "name": "python",
   "nbconvert_exporter": "python",
   "pygments_lexer": "ipython3",
   "version": "3.8.10"
  }
 },
 "nbformat": 4,
 "nbformat_minor": 2
}
