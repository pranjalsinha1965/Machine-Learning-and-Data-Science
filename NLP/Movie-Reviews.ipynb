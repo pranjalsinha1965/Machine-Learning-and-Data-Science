{
 "cells": [
  {
   "cell_type": "code",
   "execution_count": null,
   "metadata": {},
   "outputs": [],
   "source": [
    "# Code of movie recommendations system and it`s reviews and all the details of the movie`s "
   ]
  },
  {
   "cell_type": "code",
   "execution_count": 34,
   "metadata": {},
   "outputs": [
    {
     "name": "stdout",
     "output_type": "stream",
     "text": [
      "['capsule', ':', 'in', '2176', 'on', 'the', 'planet', ...]\n"
     ]
    }
   ],
   "source": [
    "from nltk.corpus import movie_reviews\n",
    "movie_reviews.categories()\n",
    "movie_reviews.fileids()\n",
    "len(movie_reviews.fileids())\n",
    "print(movie_reviews.words(movie_reviews.fileids()[5]))"
   ]
  },
  {
   "cell_type": "code",
   "execution_count": 35,
   "metadata": {},
   "outputs": [
    {
     "data": {
      "text/plain": [
       "[(['plot', ':', 'two', 'teen', 'couples', 'go', 'to', ...], 'neg'),\n",
       " (['the', 'happy', 'bastard', \"'\", 's', 'quick', 'movie', ...], 'neg'),\n",
       " (['it', 'is', 'movies', 'like', 'these', 'that', 'make', ...], 'neg'),\n",
       " (['\"', 'quest', 'for', 'camelot', '\"', 'is', 'warner', ...], 'neg'),\n",
       " (['synopsis', ':', 'a', 'mentally', 'unstable', 'man', ...], 'neg')]"
      ]
     },
     "execution_count": 35,
     "metadata": {},
     "output_type": "execute_result"
    }
   ],
   "source": [
    "documents = []\n",
    "for category in movie_reviews.categories():\n",
    "    for fileid in movie_reviews.fileids(category):\n",
    "        documents.append((movie_reviews.words(fileid), category))\n",
    "documents[0:5]"
   ]
  },
  {
   "cell_type": "code",
   "execution_count": 36,
   "metadata": {},
   "outputs": [
    {
     "data": {
      "text/plain": [
       "[(['overblown', 'remake', 'of', 'the', '1963', 'robert', ...], 'neg'),\n",
       " (['stallone', 'attempts', 'to', \"'\", 'act', \"'\", 'in', ...], 'neg'),\n",
       " (['\"', 'oh', 'my', 'god', ',', 'i', 'sounded', 'just', ...], 'pos'),\n",
       " (['a', 'remake', 'of', 'the', '1978', 'warren', ...], 'neg'),\n",
       " (['we', 'share', 'the', 'descent', 'into', 'darkness', ...], 'pos')]"
      ]
     },
     "execution_count": 36,
     "metadata": {},
     "output_type": "execute_result"
    }
   ],
   "source": [
    "import random \n",
    "random.shuffle(documents)\n",
    "documents[0:5]"
   ]
  },
  {
   "cell_type": "code",
   "execution_count": 37,
   "metadata": {},
   "outputs": [],
   "source": [
    "from nltk.corpus import wordnet\n",
    "def get_simple_pos(tag): \n",
    "    if tag.starswith('J'): \n",
    "        return wordnet.ADJ \n",
    "    elif tag.startswith('V'): \n",
    "        return wordnet.VERB\n",
    "    elif tag.startswith('N'): \n",
    "        return wordnet.NOUN\n",
    "    elif tag.startswith('R'): \n",
    "        return wordnet.ADV \n",
    "    else: \n",
    "        return wordnet.NOUN"
   ]
  },
  {
   "cell_type": "code",
   "execution_count": 38,
   "metadata": {},
   "outputs": [
    {
     "data": {
      "text/plain": [
       "[('better', 'RBR')]"
      ]
     },
     "execution_count": 38,
     "metadata": {},
     "output_type": "execute_result"
    }
   ],
   "source": [
    "from nltk import pos_tag \n",
    "w = \"better\" \n",
    "pos_tag([w])"
   ]
  },
  {
   "cell_type": "code",
   "execution_count": 39,
   "metadata": {},
   "outputs": [
    {
     "name": "stdout",
     "output_type": "stream",
     "text": [
      "[(['sample', 'document'], 'category1'), (['another', 'example', 'text'], 'category2')]\n",
      "['sample', 'document', 'another', 'example', 'text']\n"
     ]
    }
   ],
   "source": [
    "from nltk.stem import WordNetLemmatizer\n",
    "from nltk.corpus import stopwords\n",
    "from nltk import pos_tag\n",
    "import string\n",
    "\n",
    "# Set stopwords and punctuation\n",
    "stops = set(stopwords.words('english'))\n",
    "punctuations = list(string.punctuation)  # Corrected attribute\n",
    "stops.update(punctuations)\n",
    "\n",
    "lemmatizer = WordNetLemmatizer()\n",
    "\n",
    "# Function to map POS tags to simpler tags for lemmatizer\n",
    "def get_simple_pos(tag):\n",
    "    if tag.startswith('J'):\n",
    "        return 'a'  # Adjective\n",
    "    elif tag.startswith('V'):\n",
    "        return 'v'  # Verb\n",
    "    elif tag.startswith('N'):\n",
    "        return 'n'  # Noun\n",
    "    elif tag.startswith('R'):\n",
    "        return 'r'  # Adverb\n",
    "    else:\n",
    "        return 'n'  # Default to noun\n",
    "\n",
    "# Function to clean review text\n",
    "def clean_review(words):\n",
    "    output_words = []\n",
    "    for w in words:\n",
    "        if w.lower() not in stops:  # Check if word is not in stopwords or punctuation\n",
    "            pos = pos_tag([w])  # Correct usage of pos_tag\n",
    "            clean_word = lemmatizer.lemmatize(w, pos=get_simple_pos(pos[0][1]))\n",
    "            output_words.append(clean_word.lower())\n",
    "    return output_words\n",
    "\n",
    "# Example document structure\n",
    "# Make sure `documents` is tokenized properly\n",
    "documents = [\n",
    "    ([\"This\", \"is\", \"a\", \"sample\", \"document\"], \"category1\"),\n",
    "    ([\"Another\", \"example\", \"text\"], \"category2\"),\n",
    "]\n",
    "\n",
    "# Clean reviews\n",
    "documents = [(clean_review(document), category) for document, category in documents]\n",
    "\n",
    "print(documents)\n",
    "\n",
    "training_documents = documents[0:1500]\n",
    "testing_documents = documents[1500:]\n",
    "\n",
    "a = [1, 2]\n",
    "b = [3, 4]\n",
    "a += b \n",
    "a\n",
    "all_words = []\n",
    "for doc in training_documents: \n",
    "    all_words += doc[0]\n",
    "\n",
    "print(all_words)"
   ]
  },
  {
   "cell_type": "code",
   "execution_count": 40,
   "metadata": {},
   "outputs": [
    {
     "data": {
      "text/plain": [
       "(['sample', 'document'], 'category1')"
      ]
     },
     "execution_count": 40,
     "metadata": {},
     "output_type": "execute_result"
    }
   ],
   "source": [
    "import nltk \n",
    "freq = nltk.FreqDist(all_words)\n",
    "common = freq.most_common(3000)\n",
    "features = [i[0] for i in common]\n",
    "features\n",
    "documents[0]"
   ]
  },
  {
   "cell_type": "code",
   "execution_count": 41,
   "metadata": {},
   "outputs": [],
   "source": [
    "def get_feature_dict(words): \n",
    "    current_features = {}\n",
    "    words_set = set(words)\n",
    "    for w in features:\n",
    "        current_features[w] = w in words_set \n",
    "    return current_features \n"
   ]
  },
  {
   "cell_type": "code",
   "execution_count": 42,
   "metadata": {},
   "outputs": [
    {
     "data": {
      "text/plain": [
       "['sample', 'document']"
      ]
     },
     "execution_count": 42,
     "metadata": {},
     "output_type": "execute_result"
    }
   ],
   "source": [
    "output = get_feature_dict(training_documents[0][0])\n",
    "output\n",
    "training_documents[0][0]"
   ]
  },
  {
   "cell_type": "code",
   "execution_count": 44,
   "metadata": {},
   "outputs": [
    {
     "data": {
      "text/plain": [
       "({'sample': True,\n",
       "  'document': True,\n",
       "  'another': False,\n",
       "  'example': False,\n",
       "  'text': False},\n",
       " 'category1')"
      ]
     },
     "execution_count": 44,
     "metadata": {},
     "output_type": "execute_result"
    }
   ],
   "source": [
    "training_data = [(get_feature_dict(doc), category) for doc, category in training_documents]\n",
    "test_data = [(get_feature_dict(doc), category) for doc, category in training_documents]\n",
    "training_data[0]"
   ]
  }
 ],
 "metadata": {
  "kernelspec": {
   "display_name": "Python 3",
   "language": "python",
   "name": "python3"
  },
  "language_info": {
   "codemirror_mode": {
    "name": "ipython",
    "version": 3
   },
   "file_extension": ".py",
   "mimetype": "text/x-python",
   "name": "python",
   "nbconvert_exporter": "python",
   "pygments_lexer": "ipython3",
   "version": "3.8.10"
  }
 },
 "nbformat": 4,
 "nbformat_minor": 2
}
